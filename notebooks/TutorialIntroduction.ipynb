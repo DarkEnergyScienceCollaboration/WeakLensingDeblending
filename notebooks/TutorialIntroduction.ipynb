{
 "cells": [
  {
   "cell_type": "markdown",
   "metadata": {},
   "source": [
    "# Tutorial Introduction to the WeakLensingDeblending package"
   ]
  },
  {
   "cell_type": "markdown",
   "metadata": {},
   "source": [
    "WeakLensingDeblending is a python package for perfoming fast pixel-level simulations of weak-lensing survey images, measuring pixel-level observables (SNR, shear, ...) and analyzing the effects of overlapping sources.\n",
    "\n",
    "There is a lot more information at the following links, so this is just a quick tutorial introduction to get you started:\n",
    " * [Source code on github](https://github.com/DarkEnergyScienceCollaboration/WeakLensingDeblending)\n",
    " * [User and API documentation on readthedocs.org](http://weaklensingdeblending.readthedocs.org/en/latest/)\n",
    "\n",
    "If you have any questions, suggestions for improvements, or think you have found a bug, please let us know by [creating a github issue](https://github.com/DarkEnergyScienceCollaboration/WeakLensingDeblending/issues)."
   ]
  },
  {
   "cell_type": "markdown",
   "metadata": {},
   "source": [
    "## Installation"
   ]
  },
  {
   "cell_type": "markdown",
   "metadata": {},
   "source": [
    "Assuming that you have already installed git, python (2.x), and GalSim:\n",
    "```\n",
    "git clone https://github.com/DarkEnergyScienceCollaboration/WeakLensingDeblending.git\n",
    "```\n",
    "To verify that your installation was successful, try:\n",
    "```\n",
    "cd WeakLensingDeblending\n",
    "./simulate.py --help\n",
    "```\n",
    "You can now run this ipython notebook locally using:\n",
    "```\n",
    "cd notebooks\n",
    "ipython notebook TutorialIntroduction.ipynb\n",
    "```\n",
    "See [here](http://weaklensingdeblending.readthedocs.org/en/latest/install.html) for more details on installation. The examples below are based on version 0.3 of the pacakge."
   ]
  },
  {
   "cell_type": "markdown",
   "metadata": {},
   "source": [
    "## Command-Line Scripts"
   ]
  },
  {
   "cell_type": "markdown",
   "metadata": {},
   "source": [
    "The diagram below shows the basic workflow that this pacakge is designed for, with each command-line tool highlighted in blue:\n",
    "![workflow](http://weaklensingdeblending.readthedocs.org/en/latest/_images/programs.png)\n",
    "\n",
    "This tutorial focuses on the simulation and display steps. See [here](http://weaklensingdeblending.readthedocs.org/en/latest/programs.html) for more details on command-line scripts."
   ]
  },
  {
   "cell_type": "markdown",
   "metadata": {},
   "source": [
    "### Download a Galaxy Catalog"
   ]
  },
  {
   "cell_type": "markdown",
   "metadata": {},
   "source": [
    "A simulation turns a galaxy catalog into pixels. You can provide your own catalog (in the [required format](http://weaklensingdeblending.readthedocs.org/en/latest/catalog.html#galaxy-catalog-format)) but it is easier to get started by downloading and uncompressing a [prepared catalog](ftp://ftp.slac.stanford.edu/groups/desc/WL/OneDegSq.fits.gz) into your package directory:\n",
    "```\n",
    "cd WeakLensingDeblending\n",
    "curl -O ftp://ftp.slac.stanford.edu/groups/desc/WL/OneDegSq.fits.gz\n",
    "gunzip OneDegSq.fits.gz\n",
    "```\n",
    "The resulting uncompressed FITS file is ~130 Mb and contains 1 square degree of the LSST DM CatSim catalog. Details on how this file was produced from CatSimSee are [here](http://weaklensingdeblending.readthedocs.org/en/latest/catalog.html#catalog-create)."
   ]
  },
  {
   "cell_type": "markdown",
   "metadata": {},
   "source": [
    "### Run a Small Simulation"
   ]
  },
  {
   "cell_type": "markdown",
   "metadata": {},
   "source": [
    "Scripts are not installed on your path, so you normally run them from the package's top-level directory.  To simulate a (very small) piece of an LSST i-band exposure, use:\n",
    "```\n",
    "./simulate.py --catalog-name OneDegSq.fits --image-width 300 --image-height 300 --output-name tutorial\n",
    "```\n",
    "The width and height parameters are specified in LSST pixels (0.2\"/pixel), so this simulation only covers 1 sq.arcmin.  This simulation runs in about 45s on my laptop and produces a ~5Mb FITS output file called `tutorial.fits`.  To see the results with and without noise:\n",
    "```\n",
    "./display.py -i tutorial -o notebooks/display1.png --magnification 2\n",
    "./display.py -i tutorial -o notebooks/display2.png --magnification 2 --add-noise 123\n",
    "```\n",
    "Each command opens a window displaying the simulated exposure at 2x scale (4 screen pixels per LSST pixel):\n",
    "\n",
    "![display1](display1.png) ![display2](display2.png)\n",
    "\n",
    "Close the window to exit the program.  The noise (generated with random seed 123) corresponds to a full-depth i-band stack of 6900s (230 visits).  For a complete list of the simulation options:\n",
    "```\n",
    "./simulate.py --help\n",
    "```"
   ]
  },
  {
   "cell_type": "markdown",
   "metadata": {},
   "source": [
    "### Display Metadata and Analysis Results"
   ]
  },
  {
   "cell_type": "markdown",
   "metadata": {},
   "source": [
    "The FITS file generated by the `simulate.py` program includes a [catalog of metadata and analysis results](http://weaklensingdeblending.readthedocs.org/en/latest/output.html#analysis-results) You can annotate selected galaxies using any of this data with the `display.py` command, for example:\n",
    "```\n",
    "./display.py -i tutorial -o notebooks/display3.png --magnification 2 \\\n",
    "    --select 'snr_grpf>10' --select 'purity<0.99' \\\n",
    "    --info 'z=%(z).2f, i=%(ab_mag).1f' --info-color black --info-size x-large\n",
    "```\n",
    "In this example, we display the redshifts and magnitudes of galaxies with SNR > 10 that are blended (purity < 0.99) with other galaxies.\n",
    "\n",
    "![display3](display3.png)\n",
    "\n",
    "For a complete list of the display options:\n",
    "```\n",
    "./display.py --help\n",
    "```"
   ]
  },
  {
   "cell_type": "markdown",
   "metadata": {},
   "source": [
    "### Survey Configuration"
   ]
  },
  {
   "cell_type": "markdown",
   "metadata": {},
   "source": [
    "The `simulate.py` program simulates full-depth LSST i-band exposures by default, but you can easily customize this. To select a different pre-defined configuration, use the `--survey-name` and `--filter-band` options, for example:\n",
    "```\n",
    "./simulate.py --survey-name LSST --filter-band r ...\n",
    "./simulate.py --survey-name DES  --filter-band i ...\n",
    "./simulate.py --survey-name CFHT --filter-band r ...\n",
    "```\n",
    "You can also modify the default settings of the [individual configuration parameters](http://weaklensingdeblending.readthedocs.org/en/latest/src/descwl.survey.html#descwl.survey.Survey).  For example, to simulate a single LSST r-band visit with better than average seeing at an airmass of 1.1:\n",
    "```\n",
    "./simulate.py --catalog-name OneDegSq.fits --image-width 300 --image-height 300 --output-name visit \\\n",
    "    --survey-name LSST --filter-band r --zenith-psf-fwhm 0.5 --airmass 1.1 --exposure-time 30\n",
    "./display.py -i visit -o notebooks/display4.png --magnification 2 --add-noise 123 --select 'snr_grpf>10'\n",
    "```\n",
    "![display4](display4.png)\n",
    "\n",
    "To view the default parameter values for all pre-defined configurations:\n",
    "```\n",
    "./simulate.py --survey-defaults\n",
    "```"
   ]
  },
  {
   "cell_type": "markdown",
   "metadata": {},
   "source": [
    "## Analysis"
   ]
  },
  {
   "cell_type": "markdown",
   "metadata": {},
   "source": [
    "The following steps use interaction python. We start with some initialization."
   ]
  },
  {
   "cell_type": "code",
   "execution_count": 1,
   "metadata": {
    "collapsed": false
   },
   "outputs": [
    {
     "name": "stdout",
     "output_type": "stream",
     "text": [
      "Populating the interactive namespace from numpy and matplotlib\n"
     ]
    }
   ],
   "source": [
    "%pylab inline\n",
    "from astropy.table import Table"
   ]
  },
  {
   "cell_type": "markdown",
   "metadata": {},
   "source": [
    "Instead of using command-line tools to inspect the simulation results, you can work directly with the output FITS file whose format is described [here](http://weaklensingdeblending.readthedocs.org/en/latest/output.html)."
   ]
  },
  {
   "cell_type": "code",
   "execution_count": 2,
   "metadata": {
    "collapsed": true
   },
   "outputs": [],
   "source": [
    "catalog = Table.read('../tutorial.fits', hdu=1)"
   ]
  },
  {
   "cell_type": "markdown",
   "metadata": {},
   "source": [
    "Select the same galaxies that we annotated with redshifts in the earlier example. Column variables are documented [here](http://weaklensingdeblending.readthedocs.org/en/latest/output.html#analysis-results):"
   ]
  },
  {
   "cell_type": "code",
   "execution_count": 3,
   "metadata": {
    "collapsed": false
   },
   "outputs": [
    {
     "name": "stdout",
     "output_type": "stream",
     "text": [
      "   z      ab_mag snr_grpf  purity  grp_size grp_rank     e1         e2    \n",
      "-------- ------- -------- -------- -------- -------- ---------- ----------\n",
      " 1.49172 24.9983  10.4331 0.983377        9        1  -0.179051 -0.0198583\n",
      "0.173012 24.8832  17.1102 0.954458       11        1   0.047649  -0.182221\n",
      " 0.77425 22.8608  59.0179 0.869086       15        1   0.136624  -0.114638\n",
      "0.921194 22.0377  51.2511 0.920814       15        0  -0.274653  -0.140387\n",
      " 1.72421 25.2077  10.1832 0.877931       19        4 -0.0983126 -0.0924841\n",
      "0.358113 22.2711  129.017 0.988883        9        0 -0.0103377  -0.587743\n",
      "0.974496 23.6693  29.4385 0.919529        6        1  -0.055513  -0.352782\n",
      "0.546395 24.4869  18.1168 0.951419       27        4   0.153117    0.10092\n",
      "0.822417 23.8006  10.2347 0.902523       27        2  -0.291287 -0.0994362\n",
      "0.337734 23.5804  52.9899 0.970445        6        0  -0.312457 -0.0743649\n",
      "0.737692 24.0761  25.8887 0.987987        6        2 0.00601644   0.049435\n",
      "0.859595 23.8931  10.3433 0.916107        5        0  -0.182663  -0.161651\n",
      "0.727311  23.633  39.4582 0.985171       17        1  -0.482253  0.0465653\n",
      "0.244715 23.6198  16.4066 0.985785        5        1  0.0913317  -0.115181\n",
      "0.446371 24.8838  16.5151 0.973981        5        2   0.572614 -0.0969167\n",
      "0.984039 23.7998  11.0364 0.964064       27        3  0.0126815 -0.0148696\n",
      "0.469431 23.6944   28.125 0.978813       17        2  -0.268606  -0.197845\n",
      "0.585617 25.0133  11.0825 0.989492       17        4  0.0746388 0.00804354\n",
      " 0.53914 20.7864  163.058 0.987045       17        0   -0.28896 -0.0815876\n"
     ]
    }
   ],
   "source": [
    "selected = (catalog['snr_grpf'] > 10) & (catalog['purity'] < 0.99)\n",
    "print catalog[selected][['z', 'ab_mag', 'snr_grpf', 'purity', 'grp_size', 'grp_rank', 'e1', 'e2']]"
   ]
  },
  {
   "cell_type": "markdown",
   "metadata": {},
   "source": [
    "Calculate the intrinsic ellipticity for galaxies with SNR > 5:"
   ]
  },
  {
   "cell_type": "code",
   "execution_count": 4,
   "metadata": {
    "collapsed": false
   },
   "outputs": [
    {
     "name": "stdout",
     "output_type": "stream",
     "text": [
      "RMS intrinsic ellipticity = 0.242\n"
     ]
    }
   ],
   "source": [
    "sample = catalog['snr_grpf'] > 5\n",
    "sigint = 0.5 * (np.std(catalog['e1'][sample]) + np.std(catalog['e1'][sample]))\n",
    "print 'RMS intrinsic ellipticity = {:.3f}'.format(sigint)"
   ]
  },
  {
   "cell_type": "markdown",
   "metadata": {},
   "source": [
    "Calculate the average of the +,x shape measurement errors, taking into account the statistical loss of precision due to blending:"
   ]
  },
  {
   "cell_type": "code",
   "execution_count": 5,
   "metadata": {
    "collapsed": false
   },
   "outputs": [],
   "source": [
    "dgerr = np.clip(0.5 * (catalog[sample]['dg1_grp'] + catalog[sample]['dg2_grp']), 0., 1.)"
   ]
  },
  {
   "cell_type": "markdown",
   "metadata": {},
   "source": [
    "How do shape measurement errors scale with SNR?"
   ]
  },
  {
   "cell_type": "code",
   "execution_count": 6,
   "metadata": {
    "collapsed": false
   },
   "outputs": [
    {
     "name": "stderr",
     "output_type": "stream",
     "text": [
      "/Users/david/anaconda/lib/python2.7/site-packages/matplotlib/collections.py:590: FutureWarning: elementwise comparison failed; returning scalar instead, but in the future will perform elementwise comparison\n",
      "  if self._edgecolors == str('face'):\n"
     ]
    },
    {
     "data": {
      "image/png": "[encoded data removed]",
      "text/plain": [
       "<matplotlib.figure.Figure at 0x10982db10>"
      ]
     },
     "metadata": {},
     "output_type": "display_data"
    }
   ],
   "source": [
    "plt.scatter(catalog[sample]['snr_grp'], dgerr, c=catalog[sample]['ab_mag'])\n",
    "plt.xlabel('Signal-to-noise ratio $\\\\nu$')\n",
    "plt.ylabel('Shape Measurement Error $\\sigma_g$')\n",
    "plt.colorbar().set_label('magnitude $i$')\n",
    "plt.xscale('log')\n",
    "plt.yscale('log')\n",
    "plt.xlim(10., 1000.)\n",
    "plt.ylim(2e-3, 2)\n",
    "plt.show()"
   ]
  },
  {
   "cell_type": "markdown",
   "metadata": {},
   "source": [
    "Calculate the effective density of perfectly measured galaxies for shear estimation in this SNR > 5 sample:"
   ]
  },
  {
   "cell_type": "code",
   "execution_count": 7,
   "metadata": {
    "collapsed": false
   },
   "outputs": [
    {
     "name": "stdout",
     "output_type": "stream",
     "text": [
      "neff = 48.77 in 1 sq. arcmin.\n"
     ]
    }
   ],
   "source": [
    "neff = np.sum(sigint**2 / (sigint**2 + dgerr**2))\n",
    "print 'neff = {:.2f} in 1 sq. arcmin.'.format(neff)"
   ]
  },
  {
   "cell_type": "markdown",
   "metadata": {},
   "source": [
    "### Galaxy Parameter Estimation"
   ]
  },
  {
   "cell_type": "markdown",
   "metadata": {},
   "source": [
    "A simulation calculates the mean detected flux for each pixel (in electrons) from each source individually.  It also calculates numerical partial derivatives with respect to a galaxy's flux, size and shape parameters:\n",
    "```\n",
    "./fisher.py --i tutorial -o notebooks/display5.png --galaxy 402703350730 --partials --label-color black\n",
    "```\n",
    "\n",
    "![display5](display5.png)"
   ]
  },
  {
   "cell_type": "markdown",
   "metadata": {},
   "source": [
    "These partial derivative images are then combined to calculate Fisher matrix images:\n",
    "\n",
    "$$\n",
    "C^{-1}_{\\mu\\nu} \\simeq \\sum_{\\text{pixels}}\\, \\frac{\\partial_{\\mu}f \\partial_{\\nu}f}{f + b}\n",
    "$$\n",
    "\n",
    "The `fisher.py` program can display these Fisher-matrix images:\n",
    "```\n",
    "./fisher.py --i tutorial -o notebooks/display6.png --galaxy 402703350730 --label-color black\n",
    "```\n",
    "\n",
    "![display6](display6.png)\n",
    "\n",
    "You can also display the resulting parameter covariance and correlation matrices:\n",
    "```\n",
    "./fisher.py --i tutorial -o notebooks/display7.png --galaxy 402703350730 --correlation \\\n",
    "    --label-color black --figure-size 6\n",
    "```\n",
    "\n",
    "![display7](display7.png)"
   ]
  },
  {
   "cell_type": "markdown",
   "metadata": {},
   "source": [
    "When two or more galaxies overlap, covariances are estimated two ways: first, treating each galaxy as if it is isolated on the sky and, second, taking into account the parameter correlations that result from the actual blending. Here is an example of the fully correlated calculation for a two-galaxy blend:\n",
    "```\n",
    "./fisher.py -i tutorial -o notebooks/display8.png --group 2209410830 --no-labels\n",
    "```\n",
    "\n",
    "![display8](display8.png)\n",
    "\n",
    "For a complete list of the Fisher matrix options:\n",
    "```\n",
    "./fisher.py --help\n",
    "```"
   ]
  },
  {
   "cell_type": "markdown",
   "metadata": {},
   "source": [
    "## Next Steps"
   ]
  },
  {
   "cell_type": "markdown",
   "metadata": {},
   "source": [
    "If you made it this far, here are some next steps to try:\n",
    "* Create a [github issue](https://github.com/DarkEnergyScienceCollaboration/WeakLensingDeblending/issues) to ask your questions, request new features, or let us know about bugs.\n",
    "* Use the [skeleton analysis code](https://github.com/DarkEnergyScienceCollaboration/WeakLensingDeblending/blob/master/skeleton.py) to perform your own analysis of the [simulation outputs](http://weaklensingdeblending.readthedocs.org/en/latest/output.html).\n",
    "* Provide your own [custom catalog](http://weaklensingdeblending.readthedocs.org/en/latest/catalog.html#galaxy-catalog-format) as input to a simulation.\n",
    "* Add your own [analysis code](http://weaklensingdeblending.readthedocs.org/en/latest/src/descwl.analysis.html) to modify or extend the current [simulation outputs](http://weaklensingdeblending.readthedocs.org/en/latest/output.html).\n",
    "* Add [defaults parameter values](http://weaklensingdeblending.readthedocs.org/en/latest/src/descwl.survey.html#descwl.survey.Survey.get_defaults) for your favorite survey.\n",
    "* Sign up for a project on the [TODO list](http://weaklensingdeblending.readthedocs.org/en/latest/todo.html)."
   ]
  },
  {
   "cell_type": "code",
   "execution_count": null,
   "metadata": {
    "collapsed": true
   },
   "outputs": [],
   "source": []
  }
 ],
 "metadata": {
  "kernelspec": {
   "display_name": "Python 2",
   "language": "python",
   "name": "python2"
  },
  "language_info": {
   "codemirror_mode": {
    "name": "ipython",
    "version": 2
   },
   "file_extension": ".py",
   "mimetype": "text/x-python",
   "name": "python",
   "nbconvert_exporter": "python",
   "pygments_lexer": "ipython2",
   "version": "2.7.10"
  }
 },
 "nbformat": 4,
 "nbformat_minor": 0
}
