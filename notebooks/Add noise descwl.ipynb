{
 "cells": [
  {
   "cell_type": "code",
   "execution_count": 1,
   "metadata": {
    "collapsed": true
   },
   "outputs": [],
   "source": [
    "import galsim,descwl\n",
    "results = descwl.output.Reader('/Users/javiers/WeakLensingDeblending/demo_DES_i_512.fits').results\n",
    "results.add_noise(noise_seed=1)\n",
    "galsim.fits.write(results.survey.image,'demo_DES_i_512_noise.fits')"
   ]
  },
  {
   "cell_type": "code",
   "execution_count": 2,
   "metadata": {
    "collapsed": true
   },
   "outputs": [],
   "source": [
    "results2 = descwl.output.Reader('/Users/javiers/WeakLensingDeblending/demo_LSST_i_512.fits').results\n",
    "results2.add_noise(noise_seed=1)\n",
    "galsim.fits.write(results2.survey.image,'demo_LSST_i_512_noise.fits')"
   ]
  },
  {
   "cell_type": "code",
   "execution_count": 3,
   "metadata": {
    "collapsed": true
   },
   "outputs": [],
   "source": [
    "results3 = descwl.output.Reader('/Users/javiers/WeakLensingDeblending/test_DES_i.fits').results\n",
    "results3.add_noise(noise_seed=1)\n",
    "galsim.fits.write(results3.survey.image,'/Users/javiers/Downloads/sextractor-2.19.5/tests/test_DES_i_noise.fits')"
   ]
  },
  {
   "cell_type": "code",
   "execution_count": 5,
   "metadata": {
    "collapsed": false
   },
   "outputs": [],
   "source": [
    "results4 = descwl.output.Reader('/Users/javiers/WeakLensingDeblending/test_HSC_i_sigp.fits').results\n",
    "results4.add_noise(noise_seed=1)\n",
    "galsim.fits.write(results4.survey.image,'/Users/javiers/Downloads/sextractor-2.19.5/tests/test_HSC_i_noise_sigp.fits')"
   ]
  },
  {
   "cell_type": "code",
   "execution_count": null,
   "metadata": {
    "collapsed": true
   },
   "outputs": [],
   "source": []
  }
 ],
 "metadata": {
  "kernelspec": {
   "display_name": "Python 2",
   "language": "python",
   "name": "python2"
  },
  "language_info": {
   "codemirror_mode": {
    "name": "ipython",
    "version": 2
   },
   "file_extension": ".py",
   "mimetype": "text/x-python",
   "name": "python",
   "nbconvert_exporter": "python",
   "pygments_lexer": "ipython2",
   "version": "2.7.12"
  }
 },
 "nbformat": 4,
 "nbformat_minor": 0
}
