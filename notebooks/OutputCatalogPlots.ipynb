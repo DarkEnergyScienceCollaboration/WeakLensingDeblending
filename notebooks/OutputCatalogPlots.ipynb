{
 "metadata": {
  "name": "",
  "signature": "sha256:d877f3d815f470fa9234421094297d4d234081afec22f8120e6ad9d0991e7a82"
 },
 "nbformat": 3,
 "nbformat_minor": 0,
 "worksheets": [
  {
   "cells": [
    {
     "cell_type": "heading",
     "level": 1,
     "metadata": {},
     "source": [
      "Output Catalog Plots"
     ]
    },
    {
     "cell_type": "markdown",
     "metadata": {},
     "source": [
      "This notebook reads [simulation output catalogs](http://weaklensingdeblending.readthedocs.org/en/latest/output.html#analysis-results) for different [survey configurations](http://weaklensingdeblending.readthedocs.org/en/latest/src/descwl.survey.html), and makes some summary plots. Plots to summarize the simulation input galaxy catalog are generated in a [separate notebook](http://weaklensingdeblending.readthedocs.org/en/latest/notebooks.html)."
     ]
    },
    {
     "cell_type": "code",
     "collapsed": false,
     "input": [],
     "language": "python",
     "metadata": {},
     "outputs": []
    }
   ],
   "metadata": {}
  }
 ]
}