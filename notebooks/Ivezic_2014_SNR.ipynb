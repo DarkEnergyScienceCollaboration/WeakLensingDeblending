{
 "cells": [
  {
   "cell_type": "code",
   "execution_count": 1,
   "metadata": {
    "collapsed": false
   },
   "outputs": [
    {
     "name": "stdout",
     "output_type": "stream",
     "text": [
      "Populating the interactive namespace from numpy and matplotlib\n"
     ]
    }
   ],
   "source": [
    "%pylab inline"
   ]
  },
  {
   "cell_type": "code",
   "execution_count": 2,
   "metadata": {
    "collapsed": true
   },
   "outputs": [],
   "source": [
    "import astropy.table"
   ]
  },
  {
   "cell_type": "code",
   "execution_count": 121,
   "metadata": {
    "collapsed": false
   },
   "outputs": [],
   "source": [
    "def calculate_depth(band,make_plot=False, exptime=6900., X=1.2, mode='Ivezic'):\n",
    "    #Values from Ivezic 2014\n",
    "    if mode=='Ivezic':\n",
    "        msky = {'u':22.9, 'g':22.3, 'r':21.2, 'i':20.5, 'z':19.6, 'y':18.6}\n",
    "        cm = {'u':22.92 , 'g':24.29, 'r':24.33, 'i':24.20, 'z':24.07, 'y':23.69} \n",
    "        psf = {'u':0.77 , 'g':0.73, 'r':0.70, 'i':0.67, 'z':0.65, 'y':0.63} \n",
    "        inst_noise_corr = {'u':0.67 , 'g':0.21, 'r':0.11, 'i':0.08, 'z':0.05, 'y':0.04}\n",
    "        km = {'u':0.451,'g':0.163,'r':0.087,'i':0.065,'z':0.043,'y':0.138}\n",
    "    ####################\n",
    "    #Values from https://github.com/lsst-pst/syseng_throughputs/blob/master/plots/table2\n",
    "    if mode=='Sys_eng':\n",
    "        psf = {'u':0.92 , 'g':0.87, 'r':0.83, 'i':0.80, 'z':0.78, 'y':0.76} \n",
    "        cm = {'u':22.74, 'g':24.38, 'r':24.43, 'i':24.30 , 'z':24.15, 'y':23.70}\n",
    "        msky = {'u':22.95, 'g':22.24, 'r':21.20, 'i':20.47, 'z':19.60, 'y':18.63}\n",
    "        inst_noise_corr = {'u':0.75 , 'g':0.19, 'r':0.10, 'i':0.07, 'z':0.05, 'y':0.04}\n",
    "        km = {'u':0.5041,'g':0.2097,'r':0.1263,'i':0.0962,'z':0.0685,'y':0.1760}\n",
    "    \n",
    "    exptime_corr = {'u':0.,'g':0.,'r':0,'i':0,'z':0,'y':0} #This is going to be the electronic noise correction placeholder\n",
    "    exptime_corr[band] = inst_noise_corr[band]-1.25*np.log10(1+(10**(0.8*inst_noise_corr[band])-1)/(exptime/30.))\n",
    "    fid_depth = cm[band]+0.5*(msky[band]-21.)+2.5*np.log10(0.7/psf[band]*X**0.6)-km[band]*(X-1)+1.25*np.log10(exptime/30.)+exptime_corr[band]\n",
    "    colors = {'u':'violet','g':'blue','r':'green','i':'yellow','z':'orange','y':'red'}\n",
    "    source_table = astropy.table.Table.read('/Users/javiers/WeakLensingDeblending/LSST_%s_512_512.fits' %(band))\n",
    "    if make_plot:\n",
    "        plt.hist(source_table['ab_mag'][source_table['snr_iso']>5.],alpha=0.5,label='%s-band' %band, color=colors[band])\n",
    "        plt.plot(fid_depth*np.ones_like(np.arange(0,250,50)),np.arange(0,250,50),color=colors[band])\n",
    "        plt.xlabel('mag$_{AB}$')\n",
    "        plt.ylabel('Counts')\n",
    "        plt.legend(loc='best')\n",
    "        plt.xlim(17,28.5)\n",
    "    maxdepth = np.nanmax(source_table['ab_mag'][source_table['snr_iso']>5.])\n",
    "    mediandepth = np.nanmedian(source_table['ab_mag'][source_table['snr_iso']>5.])\n",
    "    meandepth = np.nanmean(source_table['ab_mag'][source_table['snr_iso']>5.])\n",
    "    mad = np.nanmedian(np.fabs(source_table['ab_mag'][source_table['snr_iso']>5.]-mediandepth))\n",
    "    print 'Band: ',band, 'median 5-sigma depth = ', mediandepth, '+-', mad, ' Fiducial value = ', fid_depth\n",
    "    return maxdepth, mediandepth"
   ]
  },
  {
   "cell_type": "code",
   "execution_count": 119,
   "metadata": {
    "collapsed": false
   },
   "outputs": [
    {
     "name": "stdout",
     "output_type": "stream",
     "text": [
      "Band:  u median 5-sigma depth =  26.0962 +- 0.593105  Fiducial value =  23.7665182871\n",
      "Band:  g median 5-sigma depth =  26.5799 +- 0.654543  Fiducial value =  24.8944379497\n",
      "Band:  r median 5-sigma depth =  26.0151 +- 0.680775  Fiducial value =  24.43\n",
      "Band:  i median 5-sigma depth =  25.4677 +- 0.674185  Fiducial value =  23.9975580933\n",
      "Band:  z median 5-sigma depth =  24.9068 +- 0.630817  Fiducial value =  23.4504617084\n",
      "Band:  y median 5-sigma depth =  24.0589 +- 0.649626  Fiducial value =  22.6043937264\n"
     ]
    }
   ],
   "source": [
    "for band in ['u','g','r','i','z','y']:\n",
    "    calculate_depth(band, make_plot=False,mode='Ivezic', exptime=30, X=1.0)"
   ]
  },
  {
   "cell_type": "code",
   "execution_count": 120,
   "metadata": {
    "collapsed": false
   },
   "outputs": [
    {
     "name": "stdout",
     "output_type": "stream",
     "text": [
      "Band:  u median 5-sigma depth =  26.0962 +- 0.593105  Fiducial value =  23.4182755317\n",
      "Band:  g median 5-sigma depth =  26.5799 +- 0.654543  Fiducial value =  24.7639469685\n",
      "Band:  r median 5-sigma depth =  26.0151 +- 0.680775  Fiducial value =  24.3450498691\n",
      "Band:  i median 5-sigma depth =  25.4677 +- 0.674185  Fiducial value =  23.8900201326\n",
      "Band:  z median 5-sigma depth =  24.9068 +- 0.630817  Fiducial value =  23.3325085933\n",
      "Band:  y median 5-sigma depth =  24.0589 +- 0.649626  Fiducial value =  22.4257111193\n"
     ]
    }
   ],
   "source": [
    "for band in ['u','g','r','i','z','y']:\n",
    "    calculate_depth(band, make_plot=False,mode='Sys_eng', exptime=30, X=1.0)"
   ]
  },
  {
   "cell_type": "code",
   "execution_count": 122,
   "metadata": {
    "collapsed": false
   },
   "outputs": [
    {
     "name": "stdout",
     "output_type": "stream",
     "text": [
      "Band:  u median 5-sigma depth =  26.0962 +- 0.593105  Fiducial value =  27.4115314871\n",
      "Band:  g median 5-sigma depth =  26.5799 +- 0.654543  Fiducial value =  28.1416559595\n",
      "Band:  r median 5-sigma depth =  26.0151 +- 0.680775  Fiducial value =  27.5930017621\n",
      "Band:  i median 5-sigma depth =  25.4677 +- 0.674185  Fiducial value =  27.1351151251\n",
      "Band:  z median 5-sigma depth =  24.9068 +- 0.630817  Fiducial value =  26.5625657032\n",
      "Band:  y median 5-sigma depth =  24.0589 +- 0.649626  Fiducial value =  25.6875449399\n"
     ]
    },
    {
     "data": {
      "image/png": "[encoded data removed]",
      "text/plain": [
       "<matplotlib.figure.Figure at 0x10ca24c50>"
      ]
     },
     "metadata": {},
     "output_type": "display_data"
    }
   ],
   "source": [
    "for band in ['u','g','r','i','z','y']:\n",
    "    calculate_depth(band, make_plot=True,mode='Ivezic', exptime=6900, X=1.2)"
   ]
  },
  {
   "cell_type": "code",
   "execution_count": 123,
   "metadata": {
    "collapsed": false
   },
   "outputs": [
    {
     "name": "stdout",
     "output_type": "stream",
     "text": [
      "Band:  u median 5-sigma depth =  26.0962 +- 0.593105  Fiducial value =  27.1313961924\n",
      "Band:  g median 5-sigma depth =  26.5799 +- 0.654543  Fiducial value =  27.9819504327\n",
      "Band:  r median 5-sigma depth =  26.0151 +- 0.680775  Fiducial value =  27.490244339\n",
      "Band:  i median 5-sigma depth =  25.4677 +- 0.674185  Fiducial value =  27.0113870527\n",
      "Band:  z median 5-sigma depth =  24.9068 +- 0.630817  Fiducial value =  26.439512588\n",
      "Band:  y median 5-sigma depth =  24.0589 +- 0.649626  Fiducial value =  25.5012623329\n"
     ]
    },
    {
     "data": {
      "image/png": "[encoded data removed]",
      "text/plain": [
       "<matplotlib.figure.Figure at 0x10bda9e90>"
      ]
     },
     "metadata": {},
     "output_type": "display_data"
    }
   ],
   "source": [
    "for band in ['u','g','r','i','z','y']:\n",
    "    calculate_depth(band, make_plot=True,mode='Sys_eng', exptime=6900, X=1.2)"
   ]
  },
  {
   "cell_type": "code",
   "execution_count": null,
   "metadata": {
    "collapsed": true
   },
   "outputs": [],
   "source": []
  }
 ],
 "metadata": {
  "kernelspec": {
   "display_name": "Python 2",
   "language": "python",
   "name": "python2"
  },
  "language_info": {
   "codemirror_mode": {
    "name": "ipython",
    "version": 2
   },
   "file_extension": ".py",
   "mimetype": "text/x-python",
   "name": "python",
   "nbconvert_exporter": "python",
   "pygments_lexer": "ipython2",
   "version": "2.7.12"
  }
 },
 "nbformat": 4,
 "nbformat_minor": 0
}
