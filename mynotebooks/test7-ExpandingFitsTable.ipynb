{
 "cells": [
  {
   "cell_type": "code",
   "execution_count": 1,
   "metadata": {
    "collapsed": false
   },
   "outputs": [],
   "source": [
    "import numpy as np \n",
    "from subprocess import Popen, PIPE, STDOUT\n",
    "import os\n",
    "import matplotlib.pyplot as plt\n",
    "import galsim\n",
    "import copy "
   ]
  },
  {
   "cell_type": "code",
   "execution_count": 2,
   "metadata": {
    "collapsed": false
   },
   "outputs": [
    {
     "name": "stdout",
     "output_type": "stream",
     "text": [
      "Populating the interactive namespace from numpy and matplotlib\n"
     ]
    },
    {
     "name": "stderr",
     "output_type": "stream",
     "text": [
      "WARNING: pylab import has clobbered these variables: ['copy']\n",
      "`%matplotlib` prevents importing * from pylab and numpy\n"
     ]
    }
   ],
   "source": [
    "%pylab inline\n",
    "from astropy.table import Table\n",
    "import fitsio"
   ]
  },
  {
   "cell_type": "code",
   "execution_count": 3,
   "metadata": {
    "collapsed": true
   },
   "outputs": [],
   "source": [
    "#directories that would be using \n",
    "WLD = '/Users/Ismael/code/lensing/WeakLensingDeblending/'\n",
    "repo = '/Users/Ismael/code/lensing/repo/'\n",
    "os.chdir(WLD)"
   ]
  },
  {
   "cell_type": "markdown",
   "metadata": {},
   "source": [
    "## How much time does simulating one square degree takes with/without bias calculation? "
   ]
  },
  {
   "cell_type": "code",
   "execution_count": 4,
   "metadata": {
    "collapsed": false
   },
   "outputs": [
    {
     "name": "stdout",
     "output_type": "stream",
     "text": [
      "3031.5289619\n"
     ]
    }
   ],
   "source": [
    "import time \n",
    "#timing\n",
    "start = time.time()\n",
    "cmd = ('./simulate.py --catalog-name OneDegSq.fits --survey-name LSST --filter-band i --output-name LSST_i')\n",
    "p = Popen(cmd, shell=True, stdin=PIPE, stdout=PIPE, stderr=STDOUT, close_fds=True)\n",
    "output = p.stdout.read()\n",
    "end = time.time()\n",
    "print (end - start)\n",
    "\n",
    "\n"
   ]
  },
  {
   "cell_type": "code",
   "execution_count": 8,
   "metadata": {
    "collapsed": false
   },
   "outputs": [
    {
     "name": "stdout",
     "output_type": "stream",
     "text": [
      "9717.49791789\n"
     ]
    }
   ],
   "source": [
    "#this one includes bias calculation\n",
    "start = time.time()\n",
    "cmd = ('./simulate.py --catalog-name OneDegSq.fits --survey-name LSST --filter-band i --output-name LSST_i --calculate_bias')\n",
    "p = Popen(cmd, shell=True, stdin=PIPE, stdout=PIPE, stderr=STDOUT, close_fds=True)\n",
    "output = p.stdout.read()\n",
    "end = time.time()\n",
    "print (end-start)"
   ]
  },
  {
   "cell_type": "code",
   "execution_count": 9,
   "metadata": {
    "collapsed": false
   },
   "outputs": [
    {
     "name": "stdout",
     "output_type": "stream",
     "text": [
      "/Users/Ismael/miniconda2/opt/lsst/galsim/lib/python/galsim/image.py:736: RuntimeWarning: invalid value encountered in divide\n",
      "  self.array[:,:] = (self.array / a).astype(self.array.dtype)\n",
      "\n"
     ]
    }
   ],
   "source": [
    "print output"
   ]
  },
  {
   "cell_type": "markdown",
   "metadata": {},
   "source": [
    "## Check if biases are correctly written into the table"
   ]
  },
  {
   "cell_type": "code",
   "execution_count": 28,
   "metadata": {
    "collapsed": false
   },
   "outputs": [
    {
     "name": "stdout",
     "output_type": "stream",
     "text": [
      "./simulate.py --catalog-name OneDegSq.fits --survey-name LSST --filter-band i --only-id 402700632300 --output-name test1 --calculate_bias\n",
      "\n"
     ]
    }
   ],
   "source": [
    "###We check first for a single object and seek validation in the corresponding table of all objects mathching the id. \n",
    "#produces demo.fits file with partials, \n",
    "cmd = ('./simulate.py --catalog-name OneDegSq.fits --survey-name LSST --filter-band i --only-id 402700632300 --output-name test1 --calculate_bias')\n",
    "p = Popen(cmd, shell=True, stdin=PIPE, stdout=PIPE, stderr=STDOUT, close_fds=True)\n",
    "output = p.stdout.read()\n",
    "print cmd\n",
    "print output\n",
    "\n",
    "\n"
   ]
  },
  {
   "cell_type": "code",
   "execution_count": 29,
   "metadata": {
    "collapsed": true
   },
   "outputs": [],
   "source": [
    "catalog = Table.read('test1.fits', hdu=1)\n",
    "fits = fitsio.FITS('test1.fits')"
   ]
  },
  {
   "cell_type": "code",
   "execution_count": 30,
   "metadata": {
    "collapsed": false
   },
   "outputs": [
    {
     "data": {
      "text/html": [
       "&lt;Table length=1&gt;\n",
       "<table id=\"table4517474192\" class=\"table-striped table-bordered table-condensed\">\n",
       "<thead><tr><th>db_id</th><th>grp_id</th><th>grp_size</th><th>grp_rank</th><th>visible</th><th>xmin</th><th>xmax</th><th>ymin</th><th>ymax</th><th>f_disk</th><th>f_bulge</th><th>dx</th><th>dy</th><th>z</th><th>ab_mag</th><th>ri_color</th><th>flux</th><th>sigma_m</th><th>sigma_p</th><th>e1</th><th>e2</th><th>a</th><th>b</th><th>beta</th><th>psf_sigm</th><th>purity</th><th>snr_sky</th><th>snr_iso</th><th>snr_grp</th><th>snr_isof</th><th>snr_grpf</th><th>ds</th><th>dg1</th><th>dg2</th><th>bias_f</th><th>bias_s</th><th>bias_g1</th><th>bias_g2</th><th>bias_x</th><th>bias_y</th><th>bias_f_grp</th><th>bias_s_grp</th><th>bias_g1_grp</th><th>bias_g2_grp</th><th>bias_x_grp</th><th>bias_y_grp</th><th>ds_grp</th><th>dg1_grp</th><th>dg2_grp</th><th>hsm_sigm</th><th>hsm_e1</th><th>hsm_e2</th><th>g1_fit</th><th>g2_fit</th></tr></thead>\n",
       "<thead><tr><th>int64</th><th>int64</th><th>int16</th><th>int16</th><th>int16</th><th>int32</th><th>int32</th><th>int32</th><th>int32</th><th>float32</th><th>float32</th><th>float32</th><th>float32</th><th>float32</th><th>float32</th><th>float32</th><th>float32</th><th>float32</th><th>float32</th><th>float32</th><th>float32</th><th>float32</th><th>float32</th><th>float32</th><th>float32</th><th>float32</th><th>float32</th><th>float32</th><th>float32</th><th>float32</th><th>float32</th><th>float32</th><th>float32</th><th>float32</th><th>float32</th><th>float32</th><th>float32</th><th>float32</th><th>float32</th><th>float32</th><th>float32</th><th>float32</th><th>float32</th><th>float32</th><th>float32</th><th>float32</th><th>float32</th><th>float32</th><th>float32</th><th>float32</th><th>float32</th><th>float32</th><th>float32</th><th>float32</th></tr></thead>\n",
       "<tr><td>402700632300</td><td>402700632300</td><td>1</td><td>0</td><td>1</td><td>1956</td><td>1980</td><td>2135</td><td>2184</td><td>0.956773</td><td>0.043227</td><td>-15.9555</td><td>22.4338</td><td>1.38524</td><td>22.5413</td><td>0.43375</td><td>1.08334e+06</td><td>0.72632</td><td>1.02121</td><td>-0.554143</td><td>0.145163</td><td>1.39372</td><td>0.378513</td><td>1.44269</td><td>1.05011</td><td>1.0</td><td>122.445</td><td>121.153</td><td>121.153</td><td>75.0708</td><td>75.0708</td><td>0.0225613</td><td>0.019687</td><td>0.0101653</td><td>169.574</td><td>-0.000426944</td><td>-0.000574111</td><td>0.000150456</td><td>-1.34042e-09</td><td>-6.20825e-09</td><td>169.574</td><td>-0.000426944</td><td>-0.000574111</td><td>0.000150456</td><td>-1.34042e-09</td><td>-6.20825e-09</td><td>0.0225613</td><td>0.019687</td><td>0.0101653</td><td>nan</td><td>nan</td><td>nan</td><td>0.0</td><td>0.0</td></tr>\n",
       "</table>"
      ],
      "text/plain": [
       "<Table length=1>\n",
       "   db_id        grp_id    grp_size grp_rank ...  hsm_e1  hsm_e2  g1_fit  g2_fit\n",
       "   int64        int64      int16    int16   ... float32 float32 float32 float32\n",
       "------------ ------------ -------- -------- ... ------- ------- ------- -------\n",
       "402700632300 402700632300        1        0 ...     nan     nan     0.0     0.0"
      ]
     },
     "execution_count": 30,
     "metadata": {},
     "output_type": "execute_result"
    }
   ],
   "source": [
    "catalog"
   ]
  },
  {
   "cell_type": "code",
   "execution_count": null,
   "metadata": {
    "collapsed": true
   },
   "outputs": [],
   "source": [
    "cmd = ('./simulate.py --catalog-name OneDegSq.fits --survey-name LSST --filter-band i --output-name test2 --calculate_bias')\n",
    "p = Popen(cmd, shell=True, stdin=PIPE, stdout=PIPE, stderr=STDOUT, close_fds=True)\n",
    "output = p.stdout.read()\n",
    "print cmd\n",
    "print output"
   ]
  },
  {
   "cell_type": "code",
   "execution_count": null,
   "metadata": {
    "collapsed": true
   },
   "outputs": [],
   "source": []
  }
 ],
 "metadata": {
  "kernelspec": {
   "display_name": "Python 2",
   "language": "python",
   "name": "python2"
  },
  "language_info": {
   "codemirror_mode": {
    "name": "ipython",
    "version": 2
   },
   "file_extension": ".py",
   "mimetype": "text/x-python",
   "name": "python",
   "nbconvert_exporter": "python",
   "pygments_lexer": "ipython2",
   "version": "2.7.11"
  }
 },
 "nbformat": 4,
 "nbformat_minor": 0
}
